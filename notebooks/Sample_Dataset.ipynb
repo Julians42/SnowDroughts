{
 "cells": [
  {
   "cell_type": "markdown",
   "metadata": {},
   "source": [
    "# NetCDF Sample Dataset Exploration\n",
    "Re-familarize with NetCDF, make plots with sample datset  "
   ]
  },
  {
   "cell_type": "code",
   "execution_count": 45,
   "metadata": {},
   "outputs": [],
   "source": [
    "# Import libraries\n",
    "import numpy as np\n",
    "import netCDF4 as nc\n",
    "import matplotlib.pyplot as plt\n",
    "import pandas as pd\n",
    "import datetime as dt\n",
    "from dateutil.relativedelta import relativedelta"
   ]
  },
  {
   "cell_type": "code",
   "execution_count": 138,
   "metadata": {
    "scrolled": false
   },
   "outputs": [
    {
     "data": {
      "text/plain": [
       "{'snw': <class 'netCDF4._netCDF4.Variable'>\n",
       " float32 snw(time, latitude, longitude)\n",
       "     _FillValue: -9999.0\n",
       "     _FillValue_original: -9999\n",
       "     cell_methods: time:snapshot at 06:00UTC time: mean\n",
       "     grid_mapping: crs\n",
       "     long_name: snow water equivalent\n",
       "     standard_name: snow_water_equivalent\n",
       "     units: mm\n",
       "     missing_value: -9999.0\n",
       " unlimited dimensions: time\n",
       " current shape = (192, 129, 300)\n",
       " filling on,\n",
       " 'time': <class 'netCDF4._netCDF4.Variable'>\n",
       " float32 time(time)\n",
       "     cell_methods: time: mean\n",
       "     axis: T\n",
       "     calendar: standard\n",
       "     units: hours since 2003-01-01\n",
       "     bounds: time_bnds\n",
       "     standard_name: time\n",
       " unlimited dimensions: time\n",
       " current shape = (192,)\n",
       " filling on, default _FillValue of 9.969209968386869e+36 used,\n",
       " 'latitude': <class 'netCDF4._netCDF4.Variable'>\n",
       " float32 latitude(latitude)\n",
       "     units: degrees_north\n",
       "     long_name: latitude\n",
       " unlimited dimensions: \n",
       " current shape = (129,)\n",
       " filling on, default _FillValue of 9.969209968386869e+36 used,\n",
       " 'longitude': <class 'netCDF4._netCDF4.Variable'>\n",
       " float32 longitude(longitude)\n",
       "     units: degrees_east\n",
       "     long_name: longitude\n",
       " unlimited dimensions: \n",
       " current shape = (300,)\n",
       " filling on, default _FillValue of 9.969209968386869e+36 used}"
      ]
     },
     "execution_count": 138,
     "metadata": {},
     "output_type": "execute_result"
    }
   ],
   "source": [
    "# read dataset and print dataset summary\n",
    "data = nc.Dataset(\"../data/snw.SNODAS.mon.nam-44i_hl.2003-2019.nc\", \"r\")\n",
    "data.variables"
   ]
  },
  {
   "cell_type": "code",
   "execution_count": 139,
   "metadata": {},
   "outputs": [
    {
     "name": "stdout",
     "output_type": "stream",
     "text": [
      "There are 192 observations in the small nc file\n",
      "The samples end on 2019-12-16\n"
     ]
    }
   ],
   "source": [
    "print(f\"There are {len(data['time'])} observations in the small nc file\")\n",
    "time_sample = data[\"time\"][:].data[-1]\n",
    "time_sample\n",
    "starttime = dt.date(year=2003, month=1, day=1)\n",
    "lasttime = starttime+ dt.timedelta(hours=int(time_sample)) # get sample date\n",
    "print(f\"The samples end on {lasttime}\")\n"
   ]
  },
  {
   "cell_type": "code",
   "execution_count": 140,
   "metadata": {},
   "outputs": [],
   "source": [
    "# extract data\n",
    "x = data[\"longitude\"][:]\n",
    "y = data[\"latitude\"][:]\n",
    "snw = data[\"snw\"][:]"
   ]
  },
  {
   "cell_type": "code",
   "execution_count": 57,
   "metadata": {},
   "outputs": [
    {
     "name": "stdout",
     "output_type": "stream",
     "text": [
      "3338\n"
     ]
    }
   ],
   "source": [
    "counter=0\n",
    "ind = 10\n",
    "for elt in snw[ind].data:\n",
    "    for val in elt:\n",
    "        if val != -9999.:\n",
    "            counter +=1\n",
    "print(counter)"
   ]
  },
  {
   "cell_type": "code",
   "execution_count": 272,
   "metadata": {},
   "outputs": [
    {
     "data": {
      "image/png": "[encoded data removed]",
      "text/plain": [
       "<Figure size 432x288 with 1 Axes>"
      ]
     },
     "metadata": {},
     "output_type": "display_data"
    }
   ],
   "source": [
    "X, Y = np.meshgrid(x, y)\n",
    "\n",
    "# get subset so we  can zoom on graph\n",
    "latbounds = [30 , 55]\n",
    "lonbounds = [-125 , -100]\n",
    "\n",
    "# latitude lower and upper index\n",
    "lat_lower = np.argmin(np.abs(y - latbounds[0]))\n",
    "lat_upper = np.argmin(np.abs(y - latbounds[1])) \n",
    "\n",
    "# longitude lower and upper index\n",
    "lon_lower = np.argmin(np.abs(x - lonbounds[0]))\n",
    "lon_upper = np.argmin(np.abs(x - lonbounds[1]))\n",
    "\n",
    "# colormap - color NaNs gray, select nicer plot style\n",
    "#current_cmap = plt.cm.get_cmap('Accent') #plt.style.available to find avaiable images\n",
    "current_cmap.set_bad(color='gray')\n",
    "plt.style.use('seaborn-dark')\n",
    "\n",
    "for index in range(0,191):\n",
    "    #  plot selected indices, specify bounds, choose colorscheme, specify color bounds\n",
    "    plt.imshow(snw[index][lat_lower:lat_upper, lon_lower:lon_upper],  origin='lower', \n",
    "               cmap=plt.get_cmap(\"plasma\"), aspect=\"equal\",vmin=0, vmax=500,\n",
    "               extent=(lonbounds[0], lonbounds[1], latbounds[0], latbounds[1]))\n",
    "    im_date = starttime + dt.timedelta(hours=int(data[\"time\"][:][index]))\n",
    "    plt.title(f\"WUS SWE on {im_date}\")\n",
    "    plt.xlabel(\"Longitude\")\n",
    "    plt.ylabel(\"Latitude\")\n",
    "    plt.tight_layout()\n",
    "    plt.savefig(f\"../plots/sample_dset_daily/sample_snow_{im_date}.png\",bbox_inches='tight', dpi=200)"
   ]
  },
  {
   "cell_type": "code",
   "execution_count": 273,
   "metadata": {},
   "outputs": [
    {
     "name": "stdout",
     "output_type": "stream",
     "text": [
      "191\n",
      "191\n",
      "Creating GIF from 191 separate measurements!\n"
     ]
    }
   ],
   "source": [
    "# construct gif\n",
    "import imageio\n",
    "images = []\n",
    "import os\n",
    "# get filenames\n",
    "filenames = os.listdir(\"../plots/sample_dset_daily\")\n",
    "filenames.remove(\".DS_Store\")\n",
    "filenames = [os.path.join(\"../plots/sample_dset_daily/\", f) for f in filenames]\n",
    "\n",
    "# order images\n",
    "order = np.argsort([dt.datetime.strptime(os.path.basename(d).split(\"_\")[-1][0:-4],'%Y-%m-%d') \n",
    "                     for d in filenames])\n",
    "print(len(order))\n",
    "print(len(filenames))\n",
    "\n",
    "filenames = np.array(filenames)[order]\n",
    "\n",
    "print(f\"Creating GIF from {len(filenames)} separate measurements!\")\n",
    "for filename in filenames:\n",
    "    try:\n",
    "        images.append(imageio.imread(filename))\n",
    "    except:\n",
    "        print(filename)\n",
    "imageio.mimsave(\"../sample_dset_small_sat_movie.gif\", images, duration=0.5)"
   ]
  },
  {
   "cell_type": "code",
   "execution_count": 274,
   "metadata": {},
   "outputs": [
    {
     "data": {
      "text/plain": [
       "<matplotlib.image.AxesImage at 0x7fdcd5adfdc0>"
      ]
     },
     "execution_count": 274,
     "metadata": {},
     "output_type": "execute_result"
    },
    {
     "data": {
      "image/png": "[encoded data removed]",
      "text/plain": [
       "<Figure size 432x288 with 1 Axes>"
      ]
     },
     "metadata": {},
     "output_type": "display_data"
    }
   ],
   "source": [
    "# determine what's a good saturation level - settled on 500 mm \n",
    "plt.imshow(snw[15][lat_lower:lat_upper, lon_lower:lon_upper],  origin='lower', \n",
    "               cmap=plt.get_cmap(\"plasma\"), aspect=\"equal\", vmin=0, vmax=500,\n",
    "               extent=(lonbounds[0], lonbounds[1], latbounds[0], latbounds[1]))"
   ]
  },
  {
   "cell_type": "code",
   "execution_count": null,
   "metadata": {},
   "outputs": [],
   "source": []
  }
 ],
 "metadata": {
  "kernelspec": {
   "display_name": "Python 3",
   "language": "python",
   "name": "python3"
  },
  "language_info": {
   "codemirror_mode": {
    "name": "ipython",
    "version": 3
   },
   "file_extension": ".py",
   "mimetype": "text/x-python",
   "name": "python",
   "nbconvert_exporter": "python",
   "pygments_lexer": "ipython3",
   "version": "3.8.3"
  }
 },
 "nbformat": 4,
 "nbformat_minor": 4
}
