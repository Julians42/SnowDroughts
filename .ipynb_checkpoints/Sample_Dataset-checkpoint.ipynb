{
 "cells": [
  {
   "cell_type": "markdown",
   "metadata": {},
   "source": [
    "# NetCDF Sample Dataset Exploration\n",
    "Re-familarize with NetCDF, make plots with sample datset  "
   ]
  },
  {
   "cell_type": "code",
   "execution_count": 45,
   "metadata": {},
   "outputs": [],
   "source": [
    "# Import libraries\n",
    "import numpy as np\n",
    "import netCDF4 as nc\n",
    "import matplotlib.pyplot as plt\n",
    "import pandas as pd\n",
    "import datetime as dt\n",
    "from dateutil.relativedelta import relativedelta"
   ]
  },
  {
   "cell_type": "code",
   "execution_count": 138,
   "metadata": {
    "scrolled": true
   },
   "outputs": [
    {
     "data": {
      "text/plain": [
       "{'snw': <class 'netCDF4._netCDF4.Variable'>\n",
       " float32 snw(time, latitude, longitude)\n",
       "     _FillValue: -9999.0\n",
       "     _FillValue_original: -9999\n",
       "     cell_methods: time:snapshot at 06:00UTC time: mean\n",
       "     grid_mapping: crs\n",
       "     long_name: snow water equivalent\n",
       "     standard_name: snow_water_equivalent\n",
       "     units: mm\n",
       "     missing_value: -9999.0\n",
       " unlimited dimensions: time\n",
       " current shape = (192, 129, 300)\n",
       " filling on,\n",
       " 'time': <class 'netCDF4._netCDF4.Variable'>\n",
       " float32 time(time)\n",
       "     cell_methods: time: mean\n",
       "     axis: T\n",
       "     calendar: standard\n",
       "     units: hours since 2003-01-01\n",
       "     bounds: time_bnds\n",
       "     standard_name: time\n",
       " unlimited dimensions: time\n",
       " current shape = (192,)\n",
       " filling on, default _FillValue of 9.969209968386869e+36 used,\n",
       " 'latitude': <class 'netCDF4._netCDF4.Variable'>\n",
       " float32 latitude(latitude)\n",
       "     units: degrees_north\n",
       "     long_name: latitude\n",
       " unlimited dimensions: \n",
       " current shape = (129,)\n",
       " filling on, default _FillValue of 9.969209968386869e+36 used,\n",
       " 'longitude': <class 'netCDF4._netCDF4.Variable'>\n",
       " float32 longitude(longitude)\n",
       "     units: degrees_east\n",
       "     long_name: longitude\n",
       " unlimited dimensions: \n",
       " current shape = (300,)\n",
       " filling on, default _FillValue of 9.969209968386869e+36 used}"
      ]
     },
     "execution_count": 138,
     "metadata": {},
     "output_type": "execute_result"
    }
   ],
   "source": [
    "# read dataset and print dataset summary\n",
    "data = nc.Dataset(\"../data/snw.SNODAS.mon.nam-44i_hl.2003-2019.nc\", \"r\")\n",
    "data.variables"
   ]
  },
  {
   "cell_type": "code",
   "execution_count": 139,
   "metadata": {},
   "outputs": [
    {
     "name": "stdout",
     "output_type": "stream",
     "text": [
      "There are 192 observations in the small nc file\n",
      "The samples end on 2019-12-16\n"
     ]
    }
   ],
   "source": [
    "print(f\"There are {len(data['time'])} observations in the small nc file\")\n",
    "time_sample = data[\"time\"][:].data[-1]\n",
    "time_sample\n",
    "starttime = dt.date(year=2003, month=1, day=1)\n",
    "lasttime = starttime+ dt.timedelta(hours=int(time_sample)) # get sample date\n",
    "print(f\"The samples end on {lasttime}\")\n"
   ]
  },
  {
   "cell_type": "code",
   "execution_count": 140,
   "metadata": {},
   "outputs": [],
   "source": [
    "# extract data\n",
    "x = data[\"longitude\"][:]\n",
    "y = data[\"latitude\"][:]\n",
    "snw = data[\"snw\"][:]"
   ]
  },
  {
   "cell_type": "code",
   "execution_count": 57,
   "metadata": {},
   "outputs": [
    {
     "name": "stdout",
     "output_type": "stream",
     "text": [
      "3338\n"
     ]
    }
   ],
   "source": [
    "counter=0\n",
    "ind = 10\n",
    "for elt in snw[ind].data:\n",
    "    for val in elt:\n",
    "        if val != -9999.:\n",
    "            counter +=1\n",
    "print(counter)"
   ]
  },
  {
   "cell_type": "code",
   "execution_count": 177,
   "metadata": {},
   "outputs": [
    {
     "data": {
      "image/png": "[encoded data removed]",
      "text/plain": [
       "<Figure size 432x288 with 1 Axes>"
      ]
     },
     "metadata": {},
     "output_type": "display_data"
    }
   ],
   "source": [
    "X, Y = np.meshgrid(x, y)\n",
    "\n",
    "# get subset so we  can zoom on graph\n",
    "latbounds = [30 , 55]\n",
    "lonbounds = [-125 , -100]\n",
    "\n",
    "# latitude lower and upper index\n",
    "lat_lower = np.argmin(np.abs(y - latbounds[0]))\n",
    "lat_upper = np.argmin(np.abs(y - latbounds[1])) \n",
    "\n",
    "# longitude lower and upper index\n",
    "lon_lower = np.argmin(np.abs(x - lonbounds[0]))\n",
    "lon_upper = np.argmin(np.abs(x - lonbounds[1]))\n",
    "\n",
    "index = 11\n",
    "\n",
    "# colormap - color NaNs white\n",
    "current_cmap = plt.cm.get_cmap('Accent')\n",
    "current_cmap.set_bad(color='gray')\n",
    "plt.style.use('fivethirtyeight')\n",
    "plt.imshow(snw[index][lat_lower:lat_upper, lon_lower:lon_upper],  origin='lower',\n",
    "           extent=(lonbounds[0], lonbounds[1], latbounds[0], latbounds[1]), aspect=\"equal\")\n",
    "im_date = starttime + dt.timedelta(hours=int(data[\"time\"][:][index]))\n",
    "plt.title(f\"WUS SWE on {im_date}\")\n",
    "plt.xlabel(\"Longitude\")\n",
    "plt.ylabel(\"Latitude\")\n",
    "plt.tight_layout()\n",
    "plt.savefig(\"../plots/sample_snow.png\",bbox_inches='tight', dpi=200)"
   ]
  },
  {
   "cell_type": "markdown",
   "metadata": {},
   "source": [
    "'Accent', 'Accent_r', 'Blues', 'Blues_r', 'BrBG', 'BrBG_r', 'BuGn', 'BuGn_r', 'BuPu', 'BuPu_r', 'CMRmap', 'CMRmap_r', 'Dark2', 'Dark2_r', 'GnBu', 'GnBu_r', 'Greens', 'Greens_r', 'Greys', 'Greys_r', 'OrRd', 'OrRd_r', 'Oranges', 'Oranges_r', 'PRGn', 'PRGn_r', 'Paired', 'Paired_r', 'Pastel1', 'Pastel1_r', 'Pastel2', 'Pastel2_r', 'PiYG', 'PiYG_r', 'PuBu', 'PuBuGn', 'PuBuGn_r', 'PuBu_r', 'PuOr', 'PuOr_r', 'PuRd', 'PuRd_r', 'Purples', 'Purples_r', 'RdBu', 'RdBu_r', 'RdGy', 'RdGy_r', 'RdPu', 'RdPu_r', 'RdYlBu', 'RdYlBu_r', 'RdYlGn', 'RdYlGn_r', 'Reds', 'Reds_r', 'Set1', 'Set1_r', 'Set2', 'Set2_r', 'Set3', 'Set3_r', 'Spectral', 'Spectral_r', 'Wistia', 'Wistia_r', 'YlGn', 'YlGnBu', 'YlGnBu_r', 'YlGn_r', 'YlOrBr', 'YlOrBr_r', 'YlOrRd', 'YlOrRd_r', 'afmhot', 'afmhot_r', 'autumn', 'autumn_r', 'binary', 'binary_r', 'bone', 'bone_r', 'brg', 'brg_r', 'bwr', 'bwr_r', 'cividis', 'cividis_r', 'cool', 'cool_r', 'coolwarm', 'coolwarm_r', 'copper', 'copper_r', 'cubehelix', 'cubehelix_r', 'flag', 'flag_r', 'gist_earth', 'gist_earth_r', 'gist_gray', 'gist_gray_r', 'gist_heat', 'gist_heat_r', 'gist_ncar', 'gist_ncar_r', 'gist_rainbow', 'gist_rainbow_r', 'gist_stern', 'gist_stern_r', 'gist_yarg', 'gist_yarg_r', 'gnuplot', 'gnuplot2', 'gnuplot2_r', 'gnuplot_r', 'gray', 'gray_r', 'hot', 'hot_r', 'hsv', 'hsv_r', 'inferno', 'inferno_r', 'jet', 'jet_r', 'magma', 'magma_r', 'nipy_spectral', 'nipy_spectral_r', 'ocean', 'ocean_r', 'pink', 'pink_r', 'plasma', 'plasma_r', 'prism', 'prism_r', 'rainbow', 'rainbow_r', 'seismic', 'seismic_r', 'spring', 'spring_r', 'summer', 'summer_r', 'tab10', 'tab10_r', 'tab20', 'tab20_r', 'tab20b', 'tab20b_r', 'tab20c', 'tab20c_r', 'terrain', 'terrain_r', 'twilight', 'twilight_r', 'twilight_shifted', 'twilight_shifted_r', 'viridis', 'viridis_r', 'winter', 'winter_r'"
   ]
  },
  {
   "cell_type": "code",
   "execution_count": 176,
   "metadata": {},
   "outputs": [
    {
     "data": {
      "text/plain": [
       "['Solarize_Light2',\n",
       " '_classic_test_patch',\n",
       " 'bmh',\n",
       " 'classic',\n",
       " 'dark_background',\n",
       " 'fast',\n",
       " 'fivethirtyeight',\n",
       " 'ggplot',\n",
       " 'grayscale',\n",
       " 'seaborn',\n",
       " 'seaborn-bright',\n",
       " 'seaborn-colorblind',\n",
       " 'seaborn-dark',\n",
       " 'seaborn-dark-palette',\n",
       " 'seaborn-darkgrid',\n",
       " 'seaborn-deep',\n",
       " 'seaborn-muted',\n",
       " 'seaborn-notebook',\n",
       " 'seaborn-paper',\n",
       " 'seaborn-pastel',\n",
       " 'seaborn-poster',\n",
       " 'seaborn-talk',\n",
       " 'seaborn-ticks',\n",
       " 'seaborn-white',\n",
       " 'seaborn-whitegrid',\n",
       " 'tableau-colorblind10']"
      ]
     },
     "execution_count": 176,
     "metadata": {},
     "output_type": "execute_result"
    }
   ],
   "source": [
    "plt.style.available"
   ]
  },
  {
   "cell_type": "code",
   "execution_count": null,
   "metadata": {},
   "outputs": [],
   "source": []
  }
 ],
 "metadata": {
  "kernelspec": {
   "display_name": "Python 3",
   "language": "python",
   "name": "python3"
  },
  "language_info": {
   "codemirror_mode": {
    "name": "ipython",
    "version": 3
   },
   "file_extension": ".py",
   "mimetype": "text/x-python",
   "name": "python",
   "nbconvert_exporter": "python",
   "pygments_lexer": "ipython3",
   "version": "3.8.3"
  }
 },
 "nbformat": 4,
 "nbformat_minor": 4
}
